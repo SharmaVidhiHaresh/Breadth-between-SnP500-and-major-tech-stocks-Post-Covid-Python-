{
 "cells": [
  {
   "cell_type": "code",
   "execution_count": 1,
   "metadata": {},
   "outputs": [],
   "source": [
    "import yfinance as yf\n",
    "import pandas as pd\n",
    "import matplotlib as mp\n",
    "import numpy as np"
   ]
  },
  {
   "cell_type": "markdown",
   "metadata": {},
   "source": [
    "# 1. Major outperforming tech stocks after Covid 19 outbreak"
   ]
  },
  {
   "cell_type": "markdown",
   "metadata": {},
   "source": [
    "## (A) Daily Culumative Closing Price"
   ]
  },
  {
   "cell_type": "code",
   "execution_count": 2,
   "metadata": {},
   "outputs": [
    {
     "name": "stdout",
     "output_type": "stream",
     "text": [
      "[*********************100%***********************]  5 of 5 completed\n"
     ]
    },
    {
     "data": {
      "text/html": [
       "<div>\n",
       "<style scoped>\n",
       "    .dataframe tbody tr th:only-of-type {\n",
       "        vertical-align: middle;\n",
       "    }\n",
       "\n",
       "    .dataframe tbody tr th {\n",
       "        vertical-align: top;\n",
       "    }\n",
       "\n",
       "    .dataframe thead th {\n",
       "        text-align: right;\n",
       "    }\n",
       "</style>\n",
       "<table border=\"1\" class=\"dataframe\">\n",
       "  <thead>\n",
       "    <tr style=\"text-align: right;\">\n",
       "      <th></th>\n",
       "      <th>AAPL</th>\n",
       "      <th>AMZN</th>\n",
       "      <th>FB</th>\n",
       "      <th>GOOGL</th>\n",
       "      <th>MSFT</th>\n",
       "    </tr>\n",
       "    <tr>\n",
       "      <th>Date</th>\n",
       "      <th></th>\n",
       "      <th></th>\n",
       "      <th></th>\n",
       "      <th></th>\n",
       "      <th></th>\n",
       "    </tr>\n",
       "  </thead>\n",
       "  <tbody>\n",
       "    <tr>\n",
       "      <th>2019-12-31</th>\n",
       "      <td>291.638000</td>\n",
       "      <td>1847.839966</td>\n",
       "      <td>205.250000</td>\n",
       "      <td>1339.390015</td>\n",
       "      <td>156.833633</td>\n",
       "    </tr>\n",
       "    <tr>\n",
       "      <th>2020-01-02</th>\n",
       "      <td>298.292145</td>\n",
       "      <td>1898.010010</td>\n",
       "      <td>209.779999</td>\n",
       "      <td>1368.680054</td>\n",
       "      <td>159.737595</td>\n",
       "    </tr>\n",
       "    <tr>\n",
       "      <th>2020-01-03</th>\n",
       "      <td>295.392120</td>\n",
       "      <td>1874.969971</td>\n",
       "      <td>208.669998</td>\n",
       "      <td>1361.520020</td>\n",
       "      <td>157.748581</td>\n",
       "    </tr>\n",
       "    <tr>\n",
       "      <th>2020-01-06</th>\n",
       "      <td>297.745880</td>\n",
       "      <td>1902.880005</td>\n",
       "      <td>212.600006</td>\n",
       "      <td>1397.810059</td>\n",
       "      <td>158.156342</td>\n",
       "    </tr>\n",
       "    <tr>\n",
       "      <th>2020-01-07</th>\n",
       "      <td>296.345581</td>\n",
       "      <td>1906.859985</td>\n",
       "      <td>213.059998</td>\n",
       "      <td>1395.109985</td>\n",
       "      <td>156.714310</td>\n",
       "    </tr>\n",
       "    <tr>\n",
       "      <th>...</th>\n",
       "      <td>...</td>\n",
       "      <td>...</td>\n",
       "      <td>...</td>\n",
       "      <td>...</td>\n",
       "      <td>...</td>\n",
       "    </tr>\n",
       "    <tr>\n",
       "      <th>2020-06-23</th>\n",
       "      <td>365.870331</td>\n",
       "      <td>2764.409912</td>\n",
       "      <td>242.240005</td>\n",
       "      <td>1463.979980</td>\n",
       "      <td>201.910004</td>\n",
       "    </tr>\n",
       "    <tr>\n",
       "      <th>2020-06-24</th>\n",
       "      <td>359.411987</td>\n",
       "      <td>2734.399902</td>\n",
       "      <td>234.020004</td>\n",
       "      <td>1432.699951</td>\n",
       "      <td>197.839996</td>\n",
       "    </tr>\n",
       "    <tr>\n",
       "      <th>2020-06-25</th>\n",
       "      <td>364.183380</td>\n",
       "      <td>2754.580078</td>\n",
       "      <td>235.679993</td>\n",
       "      <td>1441.099976</td>\n",
       "      <td>200.339996</td>\n",
       "    </tr>\n",
       "    <tr>\n",
       "      <th>2020-06-26</th>\n",
       "      <td>352.993561</td>\n",
       "      <td>2692.870117</td>\n",
       "      <td>216.080002</td>\n",
       "      <td>1362.540039</td>\n",
       "      <td>196.330002</td>\n",
       "    </tr>\n",
       "    <tr>\n",
       "      <th>2020-06-29</th>\n",
       "      <td>361.128876</td>\n",
       "      <td>2680.379883</td>\n",
       "      <td>220.639999</td>\n",
       "      <td>1397.170044</td>\n",
       "      <td>198.440002</td>\n",
       "    </tr>\n",
       "  </tbody>\n",
       "</table>\n",
       "<p>125 rows × 5 columns</p>\n",
       "</div>"
      ],
      "text/plain": [
       "                  AAPL         AMZN          FB        GOOGL        MSFT\n",
       "Date                                                                    \n",
       "2019-12-31  291.638000  1847.839966  205.250000  1339.390015  156.833633\n",
       "2020-01-02  298.292145  1898.010010  209.779999  1368.680054  159.737595\n",
       "2020-01-03  295.392120  1874.969971  208.669998  1361.520020  157.748581\n",
       "2020-01-06  297.745880  1902.880005  212.600006  1397.810059  158.156342\n",
       "2020-01-07  296.345581  1906.859985  213.059998  1395.109985  156.714310\n",
       "...                ...          ...         ...          ...         ...\n",
       "2020-06-23  365.870331  2764.409912  242.240005  1463.979980  201.910004\n",
       "2020-06-24  359.411987  2734.399902  234.020004  1432.699951  197.839996\n",
       "2020-06-25  364.183380  2754.580078  235.679993  1441.099976  200.339996\n",
       "2020-06-26  352.993561  2692.870117  216.080002  1362.540039  196.330002\n",
       "2020-06-29  361.128876  2680.379883  220.639999  1397.170044  198.440002\n",
       "\n",
       "[125 rows x 5 columns]"
      ]
     },
     "execution_count": 2,
     "metadata": {},
     "output_type": "execute_result"
    }
   ],
   "source": [
    "#Extract the stock pricing data for above tech stock since beginning of 2020, before the peak of the pandemic.\n",
    "Tech_Stocks = yf.download(\"MSFT AAPL FB GOOGL AMZN\", start=\"2020-01-01\", end=\"2020-06-30\",auto_adjust = True)\n",
    "Closing_Tech_Stocks= Tech_Stocks[\"Close\"]\n",
    "Closing_Tech_Stocks"
   ]
  },
  {
   "cell_type": "code",
   "execution_count": 3,
   "metadata": {},
   "outputs": [
    {
     "data": {
      "text/plain": [
       "Date\n",
       "2019-12-31    3840.951614\n",
       "2020-01-02    3934.499802\n",
       "2020-01-03    3898.300690\n",
       "2020-01-06    3969.192291\n",
       "2020-01-07    3968.089859\n",
       "                 ...     \n",
       "2020-06-23    5038.410233\n",
       "2020-06-24    4958.371841\n",
       "2020-06-25    4995.883423\n",
       "2020-06-26    4820.813721\n",
       "2020-06-29    4857.758804\n",
       "Length: 125, dtype: float64"
      ]
     },
     "execution_count": 3,
     "metadata": {},
     "output_type": "execute_result"
    }
   ],
   "source": [
    "All_Tech_Stock = Closing_Tech_Stocks.sum(axis=1)\n",
    "All_Tech_Stock"
   ]
  },
  {
   "cell_type": "markdown",
   "metadata": {},
   "source": [
    "## (B) Computing Daily Returns"
   ]
  },
  {
   "cell_type": "code",
   "execution_count": 4,
   "metadata": {},
   "outputs": [
    {
     "data": {
      "text/html": [
       "<div>\n",
       "<style scoped>\n",
       "    .dataframe tbody tr th:only-of-type {\n",
       "        vertical-align: middle;\n",
       "    }\n",
       "\n",
       "    .dataframe tbody tr th {\n",
       "        vertical-align: top;\n",
       "    }\n",
       "\n",
       "    .dataframe thead th {\n",
       "        text-align: right;\n",
       "    }\n",
       "</style>\n",
       "<table border=\"1\" class=\"dataframe\">\n",
       "  <thead>\n",
       "    <tr style=\"text-align: right;\">\n",
       "      <th></th>\n",
       "      <th>AAPL</th>\n",
       "      <th>AMZN</th>\n",
       "      <th>FB</th>\n",
       "      <th>GOOGL</th>\n",
       "      <th>MSFT</th>\n",
       "    </tr>\n",
       "    <tr>\n",
       "      <th>Date</th>\n",
       "      <th></th>\n",
       "      <th></th>\n",
       "      <th></th>\n",
       "      <th></th>\n",
       "      <th></th>\n",
       "    </tr>\n",
       "  </thead>\n",
       "  <tbody>\n",
       "    <tr>\n",
       "      <th>2020-01-03</th>\n",
       "      <td>-1.426100</td>\n",
       "      <td>-1.447100</td>\n",
       "      <td>-1.239742</td>\n",
       "      <td>-1.239222</td>\n",
       "      <td>-1.672479</td>\n",
       "    </tr>\n",
       "    <tr>\n",
       "      <th>2020-01-06</th>\n",
       "      <td>-1.819603</td>\n",
       "      <td>-2.226257</td>\n",
       "      <td>-4.559379</td>\n",
       "      <td>-6.095071</td>\n",
       "      <td>-1.207591</td>\n",
       "    </tr>\n",
       "    <tr>\n",
       "      <th>2020-01-07</th>\n",
       "      <td>-1.590217</td>\n",
       "      <td>-0.859491</td>\n",
       "      <td>-0.885118</td>\n",
       "      <td>-1.072471</td>\n",
       "      <td>-4.527349</td>\n",
       "    </tr>\n",
       "    <tr>\n",
       "      <th>2020-01-08</th>\n",
       "      <td>-4.420401</td>\n",
       "      <td>-4.733419</td>\n",
       "      <td>3.685609</td>\n",
       "      <td>-4.684816</td>\n",
       "      <td>-2.746948</td>\n",
       "    </tr>\n",
       "    <tr>\n",
       "      <th>2020-01-09</th>\n",
       "      <td>0.320447</td>\n",
       "      <td>-1.614609</td>\n",
       "      <td>0.411613</td>\n",
       "      <td>0.474892</td>\n",
       "      <td>-0.215672</td>\n",
       "    </tr>\n",
       "    <tr>\n",
       "      <th>...</th>\n",
       "      <td>...</td>\n",
       "      <td>...</td>\n",
       "      <td>...</td>\n",
       "      <td>...</td>\n",
       "      <td>...</td>\n",
       "    </tr>\n",
       "    <tr>\n",
       "      <th>2020-06-23</th>\n",
       "      <td>-0.184188</td>\n",
       "      <td>0.284882</td>\n",
       "      <td>6.010512</td>\n",
       "      <td>-0.497271</td>\n",
       "      <td>-0.759450</td>\n",
       "    </tr>\n",
       "    <tr>\n",
       "      <th>2020-06-24</th>\n",
       "      <td>-1.826994</td>\n",
       "      <td>-1.582346</td>\n",
       "      <td>-3.687918</td>\n",
       "      <td>-3.326994</td>\n",
       "      <td>-4.017170</td>\n",
       "    </tr>\n",
       "    <tr>\n",
       "      <th>2020-06-25</th>\n",
       "      <td>-1.752071</td>\n",
       "      <td>-1.679828</td>\n",
       "      <td>-1.209038</td>\n",
       "      <td>-1.274406</td>\n",
       "      <td>-1.626886</td>\n",
       "    </tr>\n",
       "    <tr>\n",
       "      <th>2020-06-26</th>\n",
       "      <td>-3.314464</td>\n",
       "      <td>-4.035547</td>\n",
       "      <td>-12.724142</td>\n",
       "      <td>-10.297832</td>\n",
       "      <td>-2.583982</td>\n",
       "    </tr>\n",
       "    <tr>\n",
       "      <th>2020-06-29</th>\n",
       "      <td>-1.750075</td>\n",
       "      <td>-0.792959</td>\n",
       "      <td>-1.253756</td>\n",
       "      <td>-1.466226</td>\n",
       "      <td>-1.536933</td>\n",
       "    </tr>\n",
       "  </tbody>\n",
       "</table>\n",
       "<p>123 rows × 5 columns</p>\n",
       "</div>"
      ],
      "text/plain": [
       "                AAPL      AMZN         FB      GOOGL      MSFT\n",
       "Date                                                          \n",
       "2020-01-03 -1.426100 -1.447100  -1.239742  -1.239222 -1.672479\n",
       "2020-01-06 -1.819603 -2.226257  -4.559379  -6.095071 -1.207591\n",
       "2020-01-07 -1.590217 -0.859491  -0.885118  -1.072471 -4.527349\n",
       "2020-01-08 -4.420401 -4.733419   3.685609  -4.684816 -2.746948\n",
       "2020-01-09  0.320447 -1.614609   0.411613   0.474892 -0.215672\n",
       "...              ...       ...        ...        ...       ...\n",
       "2020-06-23 -0.184188  0.284882   6.010512  -0.497271 -0.759450\n",
       "2020-06-24 -1.826994 -1.582346  -3.687918  -3.326994 -4.017170\n",
       "2020-06-25 -1.752071 -1.679828  -1.209038  -1.274406 -1.626886\n",
       "2020-06-26 -3.314464 -4.035547 -12.724142 -10.297832 -2.583982\n",
       "2020-06-29 -1.750075 -0.792959  -1.253756  -1.466226 -1.536933\n",
       "\n",
       "[123 rows x 5 columns]"
      ]
     },
     "execution_count": 4,
     "metadata": {},
     "output_type": "execute_result"
    }
   ],
   "source": [
    "#This computes the daily returns on tech stock since the Covid 19 outbreak in terms of percentage\n",
    "Change_In_Tech_Stock = Closing_Tech_Stocks/Closing_Tech_Stocks.shift(1)-1\n",
    "Daily_Change_In_Tech_Stocks = Change_In_Tech_Stock.dropna(0)\n",
    "Returns_On_Tech_Stock = Daily_Change_In_Tech_Stocks.pct_change().dropna(0)\n",
    "Returns_On_Tech_Stock"
   ]
  },
  {
   "cell_type": "markdown",
   "metadata": {},
   "source": [
    "# 2 Market Benchmark (S&P500)"
   ]
  },
  {
   "cell_type": "markdown",
   "metadata": {},
   "source": [
    "## (A) Daily Closing Price Of S&P500"
   ]
  },
  {
   "cell_type": "code",
   "execution_count": 5,
   "metadata": {},
   "outputs": [],
   "source": [
    "import pandas_datareader.data as web\n",
    "import datetime as dt"
   ]
  },
  {
   "cell_type": "code",
   "execution_count": 6,
   "metadata": {},
   "outputs": [],
   "source": [
    "start = dt.datetime(2019,12,31)\n",
    "end = dt.datetime(2020,6,30)"
   ]
  },
  {
   "cell_type": "code",
   "execution_count": 7,
   "metadata": {},
   "outputs": [
    {
     "data": {
      "text/html": [
       "<div>\n",
       "<style scoped>\n",
       "    .dataframe tbody tr th:only-of-type {\n",
       "        vertical-align: middle;\n",
       "    }\n",
       "\n",
       "    .dataframe tbody tr th {\n",
       "        vertical-align: top;\n",
       "    }\n",
       "\n",
       "    .dataframe thead th {\n",
       "        text-align: right;\n",
       "    }\n",
       "</style>\n",
       "<table border=\"1\" class=\"dataframe\">\n",
       "  <thead>\n",
       "    <tr style=\"text-align: right;\">\n",
       "      <th></th>\n",
       "      <th>sp500</th>\n",
       "    </tr>\n",
       "    <tr>\n",
       "      <th>DATE</th>\n",
       "      <th></th>\n",
       "    </tr>\n",
       "  </thead>\n",
       "  <tbody>\n",
       "    <tr>\n",
       "      <th>2019-12-31</th>\n",
       "      <td>3230.78</td>\n",
       "    </tr>\n",
       "    <tr>\n",
       "      <th>2020-01-02</th>\n",
       "      <td>3257.85</td>\n",
       "    </tr>\n",
       "    <tr>\n",
       "      <th>2020-01-03</th>\n",
       "      <td>3234.85</td>\n",
       "    </tr>\n",
       "    <tr>\n",
       "      <th>2020-01-06</th>\n",
       "      <td>3246.28</td>\n",
       "    </tr>\n",
       "    <tr>\n",
       "      <th>2020-01-07</th>\n",
       "      <td>3237.18</td>\n",
       "    </tr>\n",
       "    <tr>\n",
       "      <th>...</th>\n",
       "      <td>...</td>\n",
       "    </tr>\n",
       "    <tr>\n",
       "      <th>2020-06-24</th>\n",
       "      <td>3050.33</td>\n",
       "    </tr>\n",
       "    <tr>\n",
       "      <th>2020-06-25</th>\n",
       "      <td>3083.76</td>\n",
       "    </tr>\n",
       "    <tr>\n",
       "      <th>2020-06-26</th>\n",
       "      <td>3009.05</td>\n",
       "    </tr>\n",
       "    <tr>\n",
       "      <th>2020-06-29</th>\n",
       "      <td>3053.24</td>\n",
       "    </tr>\n",
       "    <tr>\n",
       "      <th>2020-06-30</th>\n",
       "      <td>3100.29</td>\n",
       "    </tr>\n",
       "  </tbody>\n",
       "</table>\n",
       "<p>126 rows × 1 columns</p>\n",
       "</div>"
      ],
      "text/plain": [
       "              sp500\n",
       "DATE               \n",
       "2019-12-31  3230.78\n",
       "2020-01-02  3257.85\n",
       "2020-01-03  3234.85\n",
       "2020-01-06  3246.28\n",
       "2020-01-07  3237.18\n",
       "...             ...\n",
       "2020-06-24  3050.33\n",
       "2020-06-25  3083.76\n",
       "2020-06-26  3009.05\n",
       "2020-06-29  3053.24\n",
       "2020-06-30  3100.29\n",
       "\n",
       "[126 rows x 1 columns]"
      ]
     },
     "execution_count": 7,
     "metadata": {},
     "output_type": "execute_result"
    }
   ],
   "source": [
    "#Extract the data for the SnP500 index since the beginning of 2020\n",
    "SnP500 = web.DataReader([\"sp500\"],'fred',start,end).dropna(0)\n",
    "SnP500"
   ]
  },
  {
   "cell_type": "markdown",
   "metadata": {},
   "source": [
    "## (B) Computing Daily Returns of S&P500"
   ]
  },
  {
   "cell_type": "code",
   "execution_count": 8,
   "metadata": {},
   "outputs": [
    {
     "data": {
      "text/html": [
       "<div>\n",
       "<style scoped>\n",
       "    .dataframe tbody tr th:only-of-type {\n",
       "        vertical-align: middle;\n",
       "    }\n",
       "\n",
       "    .dataframe tbody tr th {\n",
       "        vertical-align: top;\n",
       "    }\n",
       "\n",
       "    .dataframe thead th {\n",
       "        text-align: right;\n",
       "    }\n",
       "</style>\n",
       "<table border=\"1\" class=\"dataframe\">\n",
       "  <thead>\n",
       "    <tr style=\"text-align: right;\">\n",
       "      <th></th>\n",
       "      <th>sp500</th>\n",
       "    </tr>\n",
       "    <tr>\n",
       "      <th>DATE</th>\n",
       "      <th></th>\n",
       "    </tr>\n",
       "  </thead>\n",
       "  <tbody>\n",
       "    <tr>\n",
       "      <th>2020-01-03</th>\n",
       "      <td>-1.842589</td>\n",
       "    </tr>\n",
       "    <tr>\n",
       "      <th>2020-01-06</th>\n",
       "      <td>-1.500490</td>\n",
       "    </tr>\n",
       "    <tr>\n",
       "      <th>2020-01-07</th>\n",
       "      <td>-1.793347</td>\n",
       "    </tr>\n",
       "    <tr>\n",
       "      <th>2020-01-08</th>\n",
       "      <td>-2.748858</td>\n",
       "    </tr>\n",
       "    <tr>\n",
       "      <th>2020-01-09</th>\n",
       "      <td>0.357554</td>\n",
       "    </tr>\n",
       "    <tr>\n",
       "      <th>...</th>\n",
       "      <td>...</td>\n",
       "    </tr>\n",
       "    <tr>\n",
       "      <th>2020-06-24</th>\n",
       "      <td>-7.002440</td>\n",
       "    </tr>\n",
       "    <tr>\n",
       "      <th>2020-06-25</th>\n",
       "      <td>-1.423879</td>\n",
       "    </tr>\n",
       "    <tr>\n",
       "      <th>2020-06-26</th>\n",
       "      <td>-3.210592</td>\n",
       "    </tr>\n",
       "    <tr>\n",
       "      <th>2020-06-29</th>\n",
       "      <td>-1.606173</td>\n",
       "    </tr>\n",
       "    <tr>\n",
       "      <th>2020-06-30</th>\n",
       "      <td>0.049311</td>\n",
       "    </tr>\n",
       "  </tbody>\n",
       "</table>\n",
       "<p>124 rows × 1 columns</p>\n",
       "</div>"
      ],
      "text/plain": [
       "               sp500\n",
       "DATE                \n",
       "2020-01-03 -1.842589\n",
       "2020-01-06 -1.500490\n",
       "2020-01-07 -1.793347\n",
       "2020-01-08 -2.748858\n",
       "2020-01-09  0.357554\n",
       "...              ...\n",
       "2020-06-24 -7.002440\n",
       "2020-06-25 -1.423879\n",
       "2020-06-26 -3.210592\n",
       "2020-06-29 -1.606173\n",
       "2020-06-30  0.049311\n",
       "\n",
       "[124 rows x 1 columns]"
      ]
     },
     "execution_count": 8,
     "metadata": {},
     "output_type": "execute_result"
    }
   ],
   "source": [
    "Change_In_SnP500 = SnP500/SnP500.shift(1)-1\n",
    "Daily_Change_In_SnP500 = Change_In_SnP500.dropna(0)\n",
    "Returns_On_SnP500 = Change_In_SnP500.pct_change().dropna(0)\n",
    "Returns_On_SnP500"
   ]
  },
  {
   "cell_type": "markdown",
   "metadata": {},
   "source": [
    "# Breadth between S&P500 & average cumulative closing price of major tech stocks"
   ]
  },
  {
   "cell_type": "code",
   "execution_count": 9,
   "metadata": {},
   "outputs": [
    {
     "data": {
      "text/plain": [
       "1.4070113879890667"
      ]
     },
     "execution_count": 9,
     "metadata": {},
     "output_type": "execute_result"
    }
   ],
   "source": [
    "#How many times is cumulative closing price of major tech stocks greater than S&P500 since the commencement of 2020.\n",
    "Result = All_Tech_Stock/SnP500[\"sp500\"]\n",
    "Result.mean()"
   ]
  },
  {
   "cell_type": "code",
   "execution_count": 10,
   "metadata": {},
   "outputs": [
    {
     "data": {
      "text/plain": [
       "<matplotlib.axes._subplots.AxesSubplot at 0x11f0bf8d0>"
      ]
     },
     "execution_count": 10,
     "metadata": {},
     "output_type": "execute_result"
    },
    {
     "data": {
      "image/png": "[encoded data removed]",
      "text/plain": [
       "<Figure size 432x288 with 1 Axes>"
      ]
     },
     "metadata": {
      "needs_background": "light"
     },
     "output_type": "display_data"
    }
   ],
   "source": [
    "Result.plot()"
   ]
  },
  {
   "cell_type": "code",
   "execution_count": 11,
   "metadata": {},
   "outputs": [
    {
     "data": {
      "text/plain": [
       "sp500   -2.424196\n",
       "dtype: float64"
      ]
     },
     "execution_count": 11,
     "metadata": {},
     "output_type": "execute_result"
    }
   ],
   "source": [
    "Returns_On_SnP500 = Change_In_SnP500.pct_change().dropna(0)\n",
    "Returns_On_SnP500.mean()"
   ]
  },
  {
   "cell_type": "code",
   "execution_count": 12,
   "metadata": {},
   "outputs": [
    {
     "data": {
      "text/html": [
       "<div>\n",
       "<style scoped>\n",
       "    .dataframe tbody tr th:only-of-type {\n",
       "        vertical-align: middle;\n",
       "    }\n",
       "\n",
       "    .dataframe tbody tr th {\n",
       "        vertical-align: top;\n",
       "    }\n",
       "\n",
       "    .dataframe thead th {\n",
       "        text-align: right;\n",
       "    }\n",
       "</style>\n",
       "<table border=\"1\" class=\"dataframe\">\n",
       "  <thead>\n",
       "    <tr style=\"text-align: right;\">\n",
       "      <th></th>\n",
       "      <th>sp500</th>\n",
       "      <th>AAPL</th>\n",
       "      <th>AMZN</th>\n",
       "      <th>FB</th>\n",
       "      <th>GOOGL</th>\n",
       "      <th>MSFT</th>\n",
       "    </tr>\n",
       "  </thead>\n",
       "  <tbody>\n",
       "    <tr>\n",
       "      <th>2020-01-03</th>\n",
       "      <td>-1.842589</td>\n",
       "      <td>-1.426100</td>\n",
       "      <td>-1.447100</td>\n",
       "      <td>-1.239742</td>\n",
       "      <td>-1.239222</td>\n",
       "      <td>-1.672479</td>\n",
       "    </tr>\n",
       "    <tr>\n",
       "      <th>2020-01-06</th>\n",
       "      <td>-1.500490</td>\n",
       "      <td>-1.819603</td>\n",
       "      <td>-2.226257</td>\n",
       "      <td>-4.559379</td>\n",
       "      <td>-6.095071</td>\n",
       "      <td>-1.207591</td>\n",
       "    </tr>\n",
       "    <tr>\n",
       "      <th>2020-01-07</th>\n",
       "      <td>-1.793347</td>\n",
       "      <td>-1.590217</td>\n",
       "      <td>-0.859491</td>\n",
       "      <td>-0.885118</td>\n",
       "      <td>-1.072471</td>\n",
       "      <td>-4.527349</td>\n",
       "    </tr>\n",
       "    <tr>\n",
       "      <th>2020-01-08</th>\n",
       "      <td>-2.748858</td>\n",
       "      <td>-4.420401</td>\n",
       "      <td>-4.733419</td>\n",
       "      <td>3.685609</td>\n",
       "      <td>-4.684816</td>\n",
       "      <td>-2.746948</td>\n",
       "    </tr>\n",
       "    <tr>\n",
       "      <th>2020-01-09</th>\n",
       "      <td>0.357554</td>\n",
       "      <td>0.320447</td>\n",
       "      <td>-1.614609</td>\n",
       "      <td>0.411613</td>\n",
       "      <td>0.474892</td>\n",
       "      <td>-0.215672</td>\n",
       "    </tr>\n",
       "    <tr>\n",
       "      <th>...</th>\n",
       "      <td>...</td>\n",
       "      <td>...</td>\n",
       "      <td>...</td>\n",
       "      <td>...</td>\n",
       "      <td>...</td>\n",
       "      <td>...</td>\n",
       "    </tr>\n",
       "    <tr>\n",
       "      <th>2020-06-23</th>\n",
       "      <td>-0.336812</td>\n",
       "      <td>-0.184188</td>\n",
       "      <td>0.284882</td>\n",
       "      <td>6.010512</td>\n",
       "      <td>-0.497271</td>\n",
       "      <td>-0.759450</td>\n",
       "    </tr>\n",
       "    <tr>\n",
       "      <th>2020-06-24</th>\n",
       "      <td>-7.002440</td>\n",
       "      <td>-1.826994</td>\n",
       "      <td>-1.582346</td>\n",
       "      <td>-3.687918</td>\n",
       "      <td>-3.326994</td>\n",
       "      <td>-4.017170</td>\n",
       "    </tr>\n",
       "    <tr>\n",
       "      <th>2020-06-25</th>\n",
       "      <td>-1.423879</td>\n",
       "      <td>-1.752071</td>\n",
       "      <td>-1.679828</td>\n",
       "      <td>-1.209038</td>\n",
       "      <td>-1.274406</td>\n",
       "      <td>-1.626886</td>\n",
       "    </tr>\n",
       "    <tr>\n",
       "      <th>2020-06-26</th>\n",
       "      <td>-3.210592</td>\n",
       "      <td>-3.314464</td>\n",
       "      <td>-4.035547</td>\n",
       "      <td>-12.724142</td>\n",
       "      <td>-10.297832</td>\n",
       "      <td>-2.583982</td>\n",
       "    </tr>\n",
       "    <tr>\n",
       "      <th>2020-06-29</th>\n",
       "      <td>-1.606173</td>\n",
       "      <td>-1.750075</td>\n",
       "      <td>-0.792959</td>\n",
       "      <td>-1.253756</td>\n",
       "      <td>-1.466226</td>\n",
       "      <td>-1.536933</td>\n",
       "    </tr>\n",
       "  </tbody>\n",
       "</table>\n",
       "<p>123 rows × 6 columns</p>\n",
       "</div>"
      ],
      "text/plain": [
       "               sp500      AAPL      AMZN         FB      GOOGL      MSFT\n",
       "2020-01-03 -1.842589 -1.426100 -1.447100  -1.239742  -1.239222 -1.672479\n",
       "2020-01-06 -1.500490 -1.819603 -2.226257  -4.559379  -6.095071 -1.207591\n",
       "2020-01-07 -1.793347 -1.590217 -0.859491  -0.885118  -1.072471 -4.527349\n",
       "2020-01-08 -2.748858 -4.420401 -4.733419   3.685609  -4.684816 -2.746948\n",
       "2020-01-09  0.357554  0.320447 -1.614609   0.411613   0.474892 -0.215672\n",
       "...              ...       ...       ...        ...        ...       ...\n",
       "2020-06-23 -0.336812 -0.184188  0.284882   6.010512  -0.497271 -0.759450\n",
       "2020-06-24 -7.002440 -1.826994 -1.582346  -3.687918  -3.326994 -4.017170\n",
       "2020-06-25 -1.423879 -1.752071 -1.679828  -1.209038  -1.274406 -1.626886\n",
       "2020-06-26 -3.210592 -3.314464 -4.035547 -12.724142 -10.297832 -2.583982\n",
       "2020-06-29 -1.606173 -1.750075 -0.792959  -1.253756  -1.466226 -1.536933\n",
       "\n",
       "[123 rows x 6 columns]"
      ]
     },
     "execution_count": 12,
     "metadata": {},
     "output_type": "execute_result"
    }
   ],
   "source": [
    "All = pd.concat([Returns_On_SnP500, Returns_On_Tech_Stock], axis=1).dropna(0)\n",
    "All"
   ]
  },
  {
   "cell_type": "code",
   "execution_count": 13,
   "metadata": {},
   "outputs": [
    {
     "data": {
      "text/plain": [
       "<matplotlib.axes._subplots.AxesSubplot at 0x1202b1790>"
      ]
     },
     "execution_count": 13,
     "metadata": {},
     "output_type": "execute_result"
    },
    {
     "data": {
      "image/png": "[encoded data removed]",
      "text/plain": [
       "<Figure size 432x288 with 1 Axes>"
      ]
     },
     "metadata": {
      "needs_background": "light"
     },
     "output_type": "display_data"
    }
   ],
   "source": [
    "All.plot()"
   ]
  }
 ],
 "metadata": {
  "kernelspec": {
   "display_name": "Python 3",
   "language": "python",
   "name": "python3"
  },
  "language_info": {
   "codemirror_mode": {
    "name": "ipython",
    "version": 3
   },
   "file_extension": ".py",
   "mimetype": "text/x-python",
   "name": "python",
   "nbconvert_exporter": "python",
   "pygments_lexer": "ipython3",
   "version": "3.7.6"
  }
 },
 "nbformat": 4,
 "nbformat_minor": 4
}
